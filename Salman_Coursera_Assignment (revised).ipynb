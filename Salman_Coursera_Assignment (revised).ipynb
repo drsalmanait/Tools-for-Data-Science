{
 "cells": [
  {
   "cell_type": "markdown",
   "id": "ca8a9c5e-3571-4f69-a972-612de3bc4e11",
   "metadata": {},
   "source": [
    "# Tools for Data Science IBM"
   ]
  },
  {
   "cell_type": "markdown",
   "id": "dc4a9821-66a6-44bc-9ca1-7c3429a1ad9c",
   "metadata": {},
   "source": [
    "<h1> Introduction of Tools for Data Science IBM: </h1> This course is designed for all learners who want to become data scientists to work on data. This course will provide you with knowledge about various tools that you can use to analyze data and derive conclusions. You can also go through the course with or without programming knowledge."
   ]
  },
  {
   "cell_type": "markdown",
   "id": "9f17c585-c0ba-45ca-b1e4-31555b304e55",
   "metadata": {},
   "source": [
    "## Some of the popular languages that Data Scientists use are:\n",
    "1. Python\n",
    "2. R\n",
    "3. SQL\n",
    "4. Scala\n",
    "5. Java\n",
    "6. C++\n",
    "7. Julia\n",
    "8. JavaScript\n",
    "9. PHP\n",
    "10. Go\n",
    "11. Ruby\n",
    "12. Visual Basic"
   ]
  },
  {
   "cell_type": "markdown",
   "id": "b48aa21e-b60a-4c7c-b05f-f00134ef26ae",
   "metadata": {},
   "source": [
    "## Some of the commonly used Libraries used by Data Scientists include:\n",
    "1. Pandas\n",
    "2. NumPy\n",
    "3. Matplotlib\n",
    "4. Seaborn\n",
    "5. SciKit-Learn\n",
    "6. Keras\n",
    "7. TensorFlow\n",
    "8. PyTorch\n",
    "9. Apache Spark\n",
    "10. Vegas\n",
    "11. Big DL\n",
    "12. Ggplot2"
   ]
  },
  {
   "cell_type": "markdown",
   "id": "48b65dfe-c443-4bdd-9c69-c01bd022fff4",
   "metadata": {},
   "source": [
    "| Data Science Tools |\n",
    "|------------------- |\n",
    "| Anaconda           |\n",
    "| Jupyter Notebook   |\n",
    "| R Studio           |\n",
    "| Spyder             |\n",
    "| Zeppelin           |"
   ]
  },
  {
   "cell_type": "markdown",
   "id": "9b92ff01-bc26-45bf-a29b-5f3180fee38b",
   "metadata": {},
   "source": [
    "## Below are a few examples of evaluating airthmatic expressions in Python\n",
    "\n",
    "1. **Addition (+):** Adding two numbers together.\n",
    "   ```python\n",
    "   result = 10 + 5\n",
    "   print(result)  # Outut: 15\n",
    "\n",
    "2. **Subtraction (-):** Subtracting two numbers together.\n",
    "   ```python\n",
    "   result = 10 - 5\n",
    "   print(result)  # Outut: 5\n",
    "\n",
    "3. **Multiplication (*):** Multiply two numbers together.\n",
    "   ```python\n",
    "   result = 10 * 5\n",
    "   print(result)  # Outut: 50\n",
    "\n",
    "4. **Division (/):** Dividing two numbers together.\n",
    "   ```python\n",
    "   result = 10 / 5\n",
    "   print(result)  # Outut: 2"
   ]
  },
  {
   "cell_type": "markdown",
   "id": "3486fef0-f492-41fa-9cdc-a4639b2f6e44",
   "metadata": {},
   "source": [
    "result = 20 - 8\n",
    "print(result)  # Output: 12"
   ]
  },
  {
   "cell_type": "markdown",
   "id": "ac5755dd-4ba7-4f58-a7c9-618797486f2a",
   "metadata": {},
   "source": [
    "result = 15 / 3\n",
    "print(result)  # Output: 5.0 (in Python 3, division always returns a float)"
   ]
  },
  {
   "cell_type": "markdown",
   "id": "322c689d-5682-47f5-89a4-7cab0c7fe0c5",
   "metadata": {},
   "source": [
    "result = 15 / 3\n",
    "print(result)  # Output: 5.0 (in Python 3, division always returns a float)"
   ]
  },
  {
   "cell_type": "markdown",
   "id": "f04749ee-df88-44fa-9db1-7630765456a7",
   "metadata": {},
   "source": [
    "result = 17 // 4\n",
    "print(result)  # Output: 4"
   ]
  },
  {
   "cell_type": "code",
   "execution_count": 1,
   "id": "66bf04ac",
   "metadata": {},
   "outputs": [
    {
     "name": "stdout",
     "output_type": "stream",
     "text": [
      "Result of multiplication: 30\n",
      "Result of addition: 10\n"
     ]
    }
   ],
   "source": [
    "# Multiply and add numbers\n",
    "a = 5\n",
    "b = 3\n",
    "c = 2\n",
    "\n",
    "# Multiplication\n",
    "result_multiply = a * b * c\n",
    "print(\"Result of multiplication:\", result_multiply)\n",
    "\n",
    "# Addition\n",
    "result_addition = a + b + c\n",
    "print(\"Result of addition:\", result_addition)"
   ]
  },
  {
   "cell_type": "code",
   "execution_count": 3,
   "id": "4b0f4874-a370-4780-b5bb-501723788a27",
   "metadata": {},
   "outputs": [
    {
     "name": "stdout",
     "output_type": "stream",
     "text": [
      "150 minutes is equal to 2.5 hours\n"
     ]
    }
   ],
   "source": [
    "# Convert minutes to hours\n",
    "minutes = 150\n",
    "\n",
    "# Conversion\n",
    "hours = minutes / 60\n",
    "\n",
    "print(minutes, \"minutes is equal to\", hours, \"hours\")"
   ]
  },
  {
   "cell_type": "markdown",
   "id": "9200dc06-29bf-41f6-8d17-df600ca06f5a",
   "metadata": {},
   "source": [
    "# Objectives\n",
    "\n",
    "In this course, we aim to achieve the following objectives:\n",
    "\n",
    "1. **Week 1:** Describe the components of a Data Scientist's toolkit and list various tool categories. List examples of open-source tools used in data science. Describe the relevant features of open-source tools. List examples of commercial and cloud-based data science tools.\n",
    "   \n",
    "2. **Week 2:** Identify the criteria and roles for determining the language to learn. Identify the users and benefits of Python. Identify the users and benefits of R language. Define SQL elements and list its benefits. Review languages such as Java, Scala, C++, JavaScript, and Julia. List the global communities for connecting with other users.\n",
    "\n",
    "3. **Week 3:** List the tasks that a data scientist needs to perform to build a model​. List the various libraries: scientific, visualization, machine learning, and deep learning. Define REST API in relation to request and response. Describe data sets and sources of data. Explore open data sets on the Data Asset eXchange. Describe how to use a learning model to solve a problem. Navigate the Model Asset eXchange from IBM Research.\n",
    "\n",
    "4. **Week 4:** Describe how to use the notebooks in JupyterLab. Describe how to work in a notebook session. Describe the basic Jupyter architecture. Describe how to work with kernels. Identify tools in Anaconda Jupyter environments. Describe cloud based Jupyter environments and their data science features.\n",
    "\n",
    "5. **Week 5:** Describe R capabilities and RStudio environment. Use the inbuilt R plot function.\n",
    "Explain version control and describe the Git and GitHub environment. Describe the purpose of source repositories and explain how GitHub satisfies the needs of a source repository. Explain how to sign up for a GitHub account and describe how to create a repository. Demonstrate how to edit and upload files in GitHub. Explain the purpose of branches and describe how to merge changes into branches.\n",
    "\n",
    "6. **Week 6:** Create a Jupyter Notebook with markdown and code cells. List examples of languages, libraries and tools used in Data Science. Share your Jupyter Notebook publicly on GitHub. Evaluate notebooks submitted by your peers using the provided rubric. Demonstrate proficiency in Data Science toolkit knowledge.\n",
    "\n",
    "6. **Week 7:** Find common resources in Watson Studio and IBM Cloud Pak for Data. Create an IBM Cloud account, service, and project in Watson Studio. Create and share a Jupyter Notebook. Use different types of Jupyter Notebook templates and kernel. Describe how to connect a Watson Studio account and publish a notebook in GitHub.\n",
    "\n",
    "By accomplishing these objectives, we aim to improve our proficiency required for data analysis and enhance our overall data science skills.\n",
    "users.l data science skills.\n"
   ]
  },
  {
   "cell_type": "markdown",
   "id": "bbc4703a-da7f-4e7c-9061-a49cebbece90",
   "metadata": {},
   "source": [
    "<h2> Author: </h2>\n",
    "Dr. Salman Ahmed Khan"
   ]
  },
  {
   "cell_type": "code",
   "execution_count": null,
   "id": "41994c54",
   "metadata": {},
   "outputs": [],
   "source": [
    "\n",
    "\n",
    "\n",
    "\n",
    "\n",
    "\n",
    "\n",
    "\n",
    "\n",
    "\n",
    "\n",
    "\n",
    "\n",
    "\n",
    "\n",
    "\n",
    "\n"
   ]
  }
 ],
 "metadata": {
  "kernelspec": {
   "display_name": "Python 3 (ipykernel)",
   "language": "python",
   "name": "python3"
  },
  "language_info": {
   "codemirror_mode": {
    "name": "ipython",
    "version": 3
   },
   "file_extension": ".py",
   "mimetype": "text/x-python",
   "name": "python",
   "nbconvert_exporter": "python",
   "pygments_lexer": "ipython3",
   "version": "3.11.5"
  }
 },
 "nbformat": 4,
 "nbformat_minor": 5
}
