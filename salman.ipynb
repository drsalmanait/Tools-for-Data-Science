{
 "cells": [
  {
   "cell_type": "markdown",
   "id": "ca8a9c5e-3571-4f69-a972-612de3bc4e11",
   "metadata": {},
   "source": [
    "# Tools for Data Science IBM"
   ]
  },
  {
   "cell_type": "markdown",
   "id": "dc4a9821-66a6-44bc-9ca1-7c3429a1ad9c",
   "metadata": {},
   "source": [
    "Tools in Data Science, IBM is designed for all learners who want to become data scientists to work on data. This course will provide you with knowledge about various tools that you can use to analyze data and derive conclusions. You can also go through the course with or without programming knowledge."
   ]
  },
  {
   "cell_type": "markdown",
   "id": "9f17c585-c0ba-45ca-b1e4-31555b304e55",
   "metadata": {},
   "source": [
    "# Data Science Languages:\n",
    "Python, R, Scala, Java, Julia, SQL, etc."
   ]
  },
  {
   "cell_type": "markdown",
   "id": "b48aa21e-b60a-4c7c-b05f-f00134ef26ae",
   "metadata": {},
   "source": [
    "Data Science Libraries: TensorFlow, NumPy, SciPy, Pandas, Matplotlib, Keras, SciKit-Learn, PyTorch, Scrapy, BeautifulSoup, LightGBM, ELI5, Theano, NuPIC, Ramp, Pipenv, Bob, PyBrain, Caffe2, Chainer etc. \n"
   ]
  },
  {
   "cell_type": "markdown",
   "id": "48b65dfe-c443-4bdd-9c69-c01bd022fff4",
   "metadata": {},
   "source": [
    "| Tool             | Description                                             |\n",
    "|------------------|---------------------------------------------------------|\n",
    "| Jupyter Notebook | Interactive computing environment for data science      |\n",
    "| Python           | General-purpose programming language                      |\n",
    "| R                | Statistical computing and graphics language              |\n",
    "| Pandas           | Data manipulation and analysis library for Python       |\n",
    "| NumPy            | Numerical computing library for Python                   |\n",
    "| Matplotlib       | 2D plotting library for Python                           |\n",
    "| Scikit-learn     | Machine learning library for Python                      |\n",
    "| TensorFlow       | Open-source machine learning framework                   |\n",
    "| Keras            | High-level neural networks API for TensorFlow            |\n",
    "| PyTorch          | Open-source machine learning framework by Facebook AI    |\n",
    "| Spark            | Distributed computing framework for big data processing |\n",
    "| SQL              | Query language for managing and manipulating databases   |\n"
   ]
  },
  {
   "cell_type": "markdown",
   "id": "9b92ff01-bc26-45bf-a29b-5f3180fee38b",
   "metadata": {},
   "source": [
    "# Arithmetic Expressions Examples\r\n",
    "\r\n",
    "In Python, arithmetic expressions are used to perform mathematical operations. They can involve numbers, variables, and operators. Here are some examples of arithmetic expressions:\r\n",
    "\r\n",
    "1. **Addition (+):** Adding two numbers together.\r\n",
    "   ```python\r\n",
    "   result = 10 + 5\r\n",
    "   print(result)  # Outut: 15\r\n"
   ]
  },
  {
   "cell_type": "markdown",
   "id": "3486fef0-f492-41fa-9cdc-a4639b2f6e44",
   "metadata": {},
   "source": [
    "result = 20 - 8\n",
    "print(result)  # Output: 12"
   ]
  },
  {
   "cell_type": "markdown",
   "id": "ac5755dd-4ba7-4f58-a7c9-618797486f2a",
   "metadata": {},
   "source": [
    "result = 15 / 3\n",
    "print(result)  # Output: 5.0 (in Python 3, division always returns a float)"
   ]
  },
  {
   "cell_type": "markdown",
   "id": "322c689d-5682-47f5-89a4-7cab0c7fe0c5",
   "metadata": {},
   "source": [
    "result = 15 / 3\n",
    "print(result)  # Output: 5.0 (in Python 3, division always returns a float)"
   ]
  },
  {
   "cell_type": "markdown",
   "id": "f04749ee-df88-44fa-9db1-7630765456a7",
   "metadata": {},
   "source": [
    "result = 17 // 4\n",
    "print(result)  # Output: 4"
   ]
  },
  {
   "cell_type": "markdown",
   "id": "52117729-3b20-43d0-9627-839927a14d30",
   "metadata": {},
   "source": [
    "# Multiply and add numbers\n",
    "a = 5\n",
    "b = 3\n",
    "c = 2\n",
    "\n",
    "# Multiplication\n",
    "result_multiply = a * b * c\n",
    "print(\"Result of multiplication:\", result_multiply)\n",
    "\n",
    "# Addition\n",
    "result_addition = a + b + c\n",
    "print(\"Result of addition:\", result_addition)"
   ]
  },
  {
   "cell_type": "code",
   "execution_count": 87,
   "id": "4b0f4874-a370-4780-b5bb-501723788a27",
   "metadata": {},
   "outputs": [
    {
     "name": "stdout",
     "output_type": "stream",
     "text": [
      "150 minutes is equal to 2.5 hours\n"
     ]
    }
   ],
   "source": [
    "# Convert minutes to hours\n",
    "minutes = 150\n",
    "\n",
    "# Conversion\n",
    "hours = minutes / 60\n",
    "\n",
    "print(minutes, \"minutes is equal to\", hours, \"hours\")"
   ]
  },
  {
   "cell_type": "markdown",
   "id": "9200dc06-29bf-41f6-8d17-df600ca06f5a",
   "metadata": {},
   "source": [
    "# Objectives\r\n",
    "\r\n",
    "In this course, we aim to achieve the following objectives:\r\n",
    "\r\n",
    "1. **Week 1:** Describe the components of a Data Scientist's toolkit and list various tool categories. List examples of open-source tools used in data science. Describe the relevant features of open-source tools. List examples of commercial and cloud-based data science tools.\r\n",
    "   \r\n",
    "2. **Week 2:** Identify the criteria and roles for determining the language to learn. Identify the users and benefits of Python. Identify the users and benefits of R language. Define SQL elements and list its benefits. Review languages such as Java, Scala, C++, JavaScript, and Julia. List the global communities for connecting with other users.\r\n",
    "\r\n",
    "3. **Week 3:** List the tasks that a data scientist needs to perform to build a model​. List the various libraries: scientific, visualization, machine learning, and deep learning. Define REST API in relation to request and response. Describe data sets and sources of data. Explore open data sets on the Data Asset eXchange. Describe how to use a learning model to solve a problem. Navigate the Model Asset eXchange from IBM Research.\r\n",
    "\r\n",
    "4. **Week 4:** Describe how to use the notebooks in JupyterLab. Describe how to work in a notebook session. Describe the basic Jupyter architecture. Describe how to work with kernels. Identify tools in Anaconda Jupyter environments. Describe cloud based Jupyter environments and their data science features.\r\n",
    "\r\n",
    "5. **Week 5:** Describe R capabilities and RStudio environment. Use the inbuilt R plot function.\r\n",
    "Explain version control and describe the Git and GitHub environment. Describe the purpose of source repositories and explain how GitHub satisfies the needs of a source repository. Explain how to sign up for a GitHub account and describe how to create a repository. Demonstrate how to edit and upload files in GitHub. Explain the purpose of branches and describe how to merge changes into branches.\r\n",
    "\r\n",
    "6. **Week 6:** Create a Jupyter Notebook with markdown and code cells. List examples of languages, libraries and tools used in Data Science. Share your Jupyter Notebook publicly on GitHub. Evaluate notebooks submitted by your peers using the provided rubric. Demonstrate proficiency in Data Science toolkit knowledge.\r\n",
    "\r\n",
    "6. **Week 7:** Find common resources in Watson Studio and IBM Cloud Pak for Data. Create an IBM Cloud account, service, and project in Watson Studio. Create and share a Jupyter Notebook. Use different types of Jupyter Notebook templates and kernel. Describe how to connect a Watson Studio account and publish a notebook in GitHub.\r\n",
    "\r\n",
    "By accomplishing these objectives, we aim to improve our proficiency required for data analysis and enhance our overall data science skills.\r\n",
    "users.l data science skills.\r\n"
   ]
  },
  {
   "cell_type": "markdown",
   "id": "bbc4703a-da7f-4e7c-9061-a49cebbece90",
   "metadata": {},
   "source": [
    "### Author:\n",
    "Dr. Salman Ahmed Khan"
   ]
  }
 ],
 "metadata": {
  "kernelspec": {
   "display_name": "anaconda-panel-2023.05-py310",
   "language": "python",
   "name": "conda-env-anaconda-panel-2023.05-py310-py"
  },
  "language_info": {
   "codemirror_mode": {
    "name": "ipython",
    "version": 3
   },
   "file_extension": ".py",
   "mimetype": "text/x-python",
   "name": "python",
   "nbconvert_exporter": "python",
   "pygments_lexer": "ipython3",
   "version": "3.11.5"
  }
 },
 "nbformat": 4,
 "nbformat_minor": 5
}
